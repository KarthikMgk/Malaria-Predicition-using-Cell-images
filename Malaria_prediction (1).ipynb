{
  "nbformat": 4,
  "nbformat_minor": 0,
  "metadata": {
    "colab": {
      "name": "Malaria_prediction.ipynb",
      "version": "0.3.2",
      "provenance": [],
      "collapsed_sections": []
    },
    "kernelspec": {
      "name": "python3",
      "display_name": "Python 3"
    },
    "accelerator": "GPU"
  },
  "cells": [
    {
      "metadata": {
        "id": "CT3znvbbQUnO",
        "colab_type": "code",
        "colab": {}
      },
      "cell_type": "code",
      "source": [
        "from google.colab import drive\n",
        "drive.mount('/content/drive')"
      ],
      "execution_count": 0,
      "outputs": []
    },
    {
      "metadata": {
        "id": "Xqbwg524Q6tt",
        "colab_type": "code",
        "outputId": "05b7bf0b-cfdf-4b2a-a4ad-c59d6fb8b851",
        "colab": {
          "base_uri": "https://localhost:8080/",
          "height": 34
        }
      },
      "cell_type": "code",
      "source": [
        "from keras.applications.resnet50 import ResNet50\n",
        "from keras.preprocessing import image\n",
        "from keras.applications.resnet50 import preprocess_input, decode_predictions\n",
        "from keras.utils import np_utils\n",
        "from keras.models import Sequential\n",
        "from keras.layers.core import Dense, Dropout, Activation, Flatten\n",
        "from keras.layers.convolutional import Convolution2D, MaxPooling2D\n",
        "from keras.optimizers import SGD,RMSprop,adam\n",
        "import numpy as np\n",
        "import os\n",
        "import cv2"
      ],
      "execution_count": 0,
      "outputs": [
        {
          "output_type": "stream",
          "text": [
            "Using TensorFlow backend.\n"
          ],
          "name": "stderr"
        }
      ]
    },
    {
      "metadata": {
        "id": "icccdaXenow7",
        "colab_type": "code",
        "outputId": "570377b4-2df8-4f43-a75f-ba6620a65918",
        "colab": {
          "base_uri": "https://localhost:8080/",
          "height": 34
        }
      },
      "cell_type": "code",
      "source": [
        "path = os.getcwd()\n",
        "data = path + '/drive/My Drive/Malaria predicition/'\n",
        "data_dir_list = os.listdir(data)\n",
        "data_dir_list"
      ],
      "execution_count": 0,
      "outputs": [
        {
          "output_type": "execute_result",
          "data": {
            "text/plain": [
              "['Parasitized', 'Uninfected']"
            ]
          },
          "metadata": {
            "tags": []
          },
          "execution_count": 3
        }
      ]
    },
    {
      "metadata": {
        "id": "BORm-i1moI35",
        "colab_type": "code",
        "colab": {}
      },
      "cell_type": "code",
      "source": [
        "img_rows=128\n",
        "img_cols=128\n",
        "num_channel=1\n",
        "num_epoch=20\n",
        "\n",
        "num_classes = 2\n",
        "image_data_list = []"
      ],
      "execution_count": 0,
      "outputs": []
    },
    {
      "metadata": {
        "colab_type": "code",
        "id": "JmqTN61ganCi",
        "colab": {}
      },
      "cell_type": "code",
      "source": [
        "labels_name = {'Parasitized':1, 'Uninfected':0}"
      ],
      "execution_count": 0,
      "outputs": []
    },
    {
      "metadata": {
        "id": "PEO4mD36yxEL",
        "colab_type": "code",
        "outputId": "62e08726-1179-4c29-b5cc-40a5e672b7d6",
        "colab": {
          "base_uri": "https://localhost:8080/",
          "height": 34
        }
      },
      "cell_type": "code",
      "source": [
        "data"
      ],
      "execution_count": 0,
      "outputs": [
        {
          "output_type": "execute_result",
          "data": {
            "text/plain": [
              "'/content/drive/My Drive/Malaria predicition/'"
            ]
          },
          "metadata": {
            "tags": []
          },
          "execution_count": 9
        }
      ]
    },
    {
      "metadata": {
        "id": "397_YQ09ynGM",
        "colab_type": "code",
        "outputId": "6e24956d-5b69-44e4-d7ea-f99e4f36b898",
        "colab": {
          "base_uri": "https://localhost:8080/",
          "height": 34
        }
      },
      "cell_type": "code",
      "source": [
        "data_dir_list"
      ],
      "execution_count": 0,
      "outputs": [
        {
          "output_type": "execute_result",
          "data": {
            "text/plain": [
              "['Parasitized', 'Uninfected']"
            ]
          },
          "metadata": {
            "tags": []
          },
          "execution_count": 8
        }
      ]
    },
    {
      "metadata": {
        "colab_type": "code",
        "outputId": "9fb90818-c341-4f33-9e3d-93591363c278",
        "id": "rwBiExzZamgk",
        "colab": {
          "base_uri": "https://localhost:8080/",
          "height": 34
        }
      },
      "cell_type": "code",
      "source": [
        "data_dir_list[0]"
      ],
      "execution_count": 0,
      "outputs": [
        {
          "output_type": "execute_result",
          "data": {
            "text/plain": [
              "'Parasitized'"
            ]
          },
          "metadata": {
            "tags": []
          },
          "execution_count": 6
        }
      ]
    },
    {
      "metadata": {
        "id": "tT4_z-2wnouP",
        "colab_type": "code",
        "outputId": "029a49e6-d5df-426e-90f3-1360fea85a3c",
        "colab": {
          "base_uri": "https://localhost:8080/",
          "height": 87
        }
      },
      "cell_type": "code",
      "source": [
        "img_data_list=[]\n",
        "labels_list = []\n",
        "\n",
        "for dataset in data_dir_list:\n",
        "    \n",
        "  img_list = os.listdir(data+'/'+ dataset)\n",
        "  print ('Loading the images of dataset-'+'{}\\n'.format(dataset))\n",
        "  label = labels_name[dataset]\n",
        "  \n",
        "  for img in img_list[:5000]:\n",
        "                \n",
        "    image = cv2.imread(data + '/' + dataset + '/' + img )\n",
        "    image = cv2.cvtColor(image, cv2.COLOR_BGR2GRAY)\n",
        "    image_resize = cv2.resize(image, (img_rows, img_cols))\n",
        "    img_data_list.append(image_resize.flatten())\n",
        "\n",
        "    labels_list.append(label)    "
      ],
      "execution_count": 0,
      "outputs": [
        {
          "output_type": "stream",
          "text": [
            "Loading the images of dataset-Parasitized\n",
            "\n",
            "Loading the images of dataset-Uninfected\n",
            "\n"
          ],
          "name": "stdout"
        }
      ]
    },
    {
      "metadata": {
        "id": "VrgiEN1wnoro",
        "colab_type": "code",
        "colab": {}
      },
      "cell_type": "code",
      "source": [
        "img_data = np.array(img_data_list)"
      ],
      "execution_count": 0,
      "outputs": []
    },
    {
      "metadata": {
        "id": "8iMwU1TLGNGo",
        "colab_type": "code",
        "colab": {}
      },
      "cell_type": "code",
      "source": [
        "img_data = img_data/255\n",
        "img_data=img_data.astype('float32')"
      ],
      "execution_count": 0,
      "outputs": []
    },
    {
      "metadata": {
        "id": "k2R4NNEknoo2",
        "colab_type": "code",
        "outputId": "80c3063e-6763-4c75-ad4c-f30a036b5383",
        "colab": {
          "base_uri": "https://localhost:8080/",
          "height": 34
        }
      },
      "cell_type": "code",
      "source": [
        "len(labels_list)"
      ],
      "execution_count": 0,
      "outputs": [
        {
          "output_type": "execute_result",
          "data": {
            "text/plain": [
              "10000"
            ]
          },
          "metadata": {
            "tags": []
          },
          "execution_count": 13
        }
      ]
    },
    {
      "metadata": {
        "id": "RKcu_3iKJpaL",
        "colab_type": "code",
        "outputId": "52d83f77-2451-4668-c325-b31355686636",
        "colab": {
          "base_uri": "https://localhost:8080/",
          "height": 34
        }
      },
      "cell_type": "code",
      "source": [
        "img_data.shape"
      ],
      "execution_count": 0,
      "outputs": [
        {
          "output_type": "execute_result",
          "data": {
            "text/plain": [
              "(10000, 16384)"
            ]
          },
          "metadata": {
            "tags": []
          },
          "execution_count": 14
        }
      ]
    },
    {
      "metadata": {
        "id": "ZM-mHsYcnohG",
        "colab_type": "code",
        "colab": {}
      },
      "cell_type": "code",
      "source": [
        "labels = np.array(labels_list)\n",
        "# Y = np_utils.to_categorical(labels, num_classes)"
      ],
      "execution_count": 0,
      "outputs": []
    },
    {
      "metadata": {
        "id": "ZDDmvOex78d6",
        "colab_type": "code",
        "colab": {}
      },
      "cell_type": "code",
      "source": [
        "from sklearn.utils import shuffle\n",
        "from sklearn.model_selection import train_test_split"
      ],
      "execution_count": 0,
      "outputs": []
    },
    {
      "metadata": {
        "id": "fM5iX7yHnob1",
        "colab_type": "code",
        "colab": {}
      },
      "cell_type": "code",
      "source": [
        "x,y = shuffle(img_data,labels, random_state=2)\n",
        "# Split the dataset\n",
        "X_train, X_test, y_train, y_test = train_test_split(x, y, test_size=0.3, random_state=2)"
      ],
      "execution_count": 0,
      "outputs": []
    },
    {
      "metadata": {
        "id": "HmfferYRnoWf",
        "colab_type": "code",
        "outputId": "d2938c5d-5e8c-4bb8-a0e2-918a52288240",
        "colab": {
          "base_uri": "https://localhost:8080/",
          "height": 87
        }
      },
      "cell_type": "code",
      "source": [
        "print(X_train.shape)\n",
        "print(X_test.shape)\n",
        "print(y_train.shape)\n",
        "print(y_test.shape)"
      ],
      "execution_count": 0,
      "outputs": [
        {
          "output_type": "stream",
          "text": [
            "(7000, 16384)\n",
            "(3000, 16384)\n",
            "(7000,)\n",
            "(3000,)\n"
          ],
          "name": "stdout"
        }
      ]
    },
    {
      "metadata": {
        "id": "yITPl6H99AD4",
        "colab_type": "code",
        "colab": {}
      },
      "cell_type": "code",
      "source": [
        "import matplotlib.pyplot as plt\n",
        "from keras import backend as K\n",
        "from keras.layers import Conv2D\n",
        "import keras"
      ],
      "execution_count": 0,
      "outputs": []
    },
    {
      "metadata": {
        "id": "Drms83QaE-vr",
        "colab_type": "code",
        "colab": {}
      },
      "cell_type": "code",
      "source": [
        "X_train = X_train.reshape(X_train.shape[0], img_rows, img_cols, 1)\n",
        "X_test = X_test.reshape(X_test.shape[0], img_rows, img_cols, 1)"
      ],
      "execution_count": 0,
      "outputs": []
    },
    {
      "metadata": {
        "id": "1-yFfK0TG7Kb",
        "colab_type": "code",
        "colab": {}
      },
      "cell_type": "code",
      "source": [
        "X_train, X_cv, y_train, y_cv = train_test_split(X_train, y_train, test_size = 0.2, random_state= 42)"
      ],
      "execution_count": 0,
      "outputs": []
    },
    {
      "metadata": {
        "id": "Q-DVhdIPFOLa",
        "colab_type": "code",
        "outputId": "ef52047c-967f-48a8-e151-dd06cd7890c0",
        "colab": {
          "base_uri": "https://localhost:8080/",
          "height": 70
        }
      },
      "cell_type": "code",
      "source": [
        "print('shape of train data', X_train.shape)\n",
        "print('shape of cv data', X_cv.shape)\n",
        "print('shape of test data', X_test.shape)"
      ],
      "execution_count": 0,
      "outputs": [
        {
          "output_type": "stream",
          "text": [
            "shape of train data (5600, 128, 128, 1)\n",
            "shape of cv data (1400, 128, 128, 1)\n",
            "shape of test data (3000, 128, 128, 1)\n"
          ],
          "name": "stdout"
        }
      ]
    },
    {
      "metadata": {
        "id": "zjmRktQ_HMDr",
        "colab_type": "code",
        "outputId": "c193e976-a1ca-4386-8671-fb431b2da204",
        "colab": {
          "base_uri": "https://localhost:8080/",
          "height": 70
        }
      },
      "cell_type": "code",
      "source": [
        "print('shape of train label', y_train.shape)\n",
        "print('shape of cv label', y_cv.shape)\n",
        "print('shape of test label', y_test.shape)"
      ],
      "execution_count": 0,
      "outputs": [
        {
          "output_type": "stream",
          "text": [
            "shape of train label (5600,)\n",
            "shape of cv label (1400,)\n",
            "shape of test label (3000,)\n"
          ],
          "name": "stdout"
        }
      ]
    },
    {
      "metadata": {
        "id": "cv7iEJYbnoQu",
        "colab_type": "code",
        "colab": {}
      },
      "cell_type": "code",
      "source": [
        "# if num_channel==1:\n",
        "# \tif K.image_dim_ordering()=='th':\n",
        "# \t\timg_data= np.expand_dims(img_data, axis=1) \n",
        "# \t\tprint (img_data.shape)\n",
        "# \telse:\n",
        "# \t\timg_data= np.expand_dims(img_data, axis=4) \n",
        "# \t\tprint (img_data.shape)\n",
        "\t\t\n",
        "# else:\n",
        "# \tif K.image_dim_ordering()=='th':\n",
        "# \t\timg_data=np.rollaxis(img_data,3,1)\n",
        "# \t\tprint (img_data.shape)"
      ],
      "execution_count": 0,
      "outputs": []
    },
    {
      "metadata": {
        "id": "aN1QSVFgGR87",
        "colab_type": "text"
      },
      "cell_type": "markdown",
      "source": [
        "**Modelling**"
      ]
    },
    {
      "metadata": {
        "id": "Trf5OyMdNGCM",
        "colab_type": "code",
        "outputId": "c26f85e1-357e-4c19-fb11-e4833d99d3f9",
        "colab": {
          "base_uri": "https://localhost:8080/",
          "height": 34
        }
      },
      "cell_type": "code",
      "source": [
        "X_train.shape"
      ],
      "execution_count": 0,
      "outputs": [
        {
          "output_type": "execute_result",
          "data": {
            "text/plain": [
              "(5600, 128, 128, 1)"
            ]
          },
          "metadata": {
            "tags": []
          },
          "execution_count": 67
        }
      ]
    },
    {
      "metadata": {
        "id": "csD3ckpZhunH",
        "colab_type": "code",
        "outputId": "8d641d49-e646-4fb5-d893-b61051789eea",
        "colab": {
          "base_uri": "https://localhost:8080/",
          "height": 34
        }
      },
      "cell_type": "code",
      "source": [
        "y_train.shape"
      ],
      "execution_count": 0,
      "outputs": [
        {
          "output_type": "execute_result",
          "data": {
            "text/plain": [
              "(5600,)"
            ]
          },
          "metadata": {
            "tags": []
          },
          "execution_count": 68
        }
      ]
    },
    {
      "metadata": {
        "id": "XlllH4TyGVQN",
        "colab_type": "code",
        "colab": {}
      },
      "cell_type": "code",
      "source": [
        "model = Sequential()\n",
        "\n",
        "model.add(Conv2D(32, kernel_size=(3,3), strides=(1,1), padding='same' ,activation='relu', input_shape = (img_rows, img_cols, 1)))\n",
        "model.add(Conv2D(64, kernel_size=(3,3), strides=(1,1), padding='valid' ,activation='relu'))\n",
        "model.add(Conv2D(128, strides=(2,2), kernel_size=(2,2),activation='relu'))\n",
        "model.add(MaxPooling2D(pool_size=(2,2), strides=(2,2)))\n",
        "model.add(Dropout(0.5))\n",
        "\n",
        "model.add(Flatten())\n",
        "\n",
        "model.add(Dense(128, activation='relu'))\n",
        "model.add(Dropout(0.25))\n",
        "model.add(Dense(64, activation='relu'))\n",
        "model.add(Dropout(0.5))\n",
        "model.add(Dense(num_classes, activation='softmax'))"
      ],
      "execution_count": 0,
      "outputs": []
    },
    {
      "metadata": {
        "id": "Z5DlTJ8GfSX_",
        "colab_type": "code",
        "outputId": "806e07c5-7b5f-4f5c-affa-50df1a6b985a",
        "colab": {
          "base_uri": "https://localhost:8080/",
          "height": 532
        }
      },
      "cell_type": "code",
      "source": [
        "model.summary()"
      ],
      "execution_count": 0,
      "outputs": [
        {
          "output_type": "stream",
          "text": [
            "_________________________________________________________________\n",
            "Layer (type)                 Output Shape              Param #   \n",
            "=================================================================\n",
            "conv2d_35 (Conv2D)           (None, 128, 128, 32)      320       \n",
            "_________________________________________________________________\n",
            "conv2d_36 (Conv2D)           (None, 126, 126, 64)      18496     \n",
            "_________________________________________________________________\n",
            "conv2d_37 (Conv2D)           (None, 63, 63, 128)       32896     \n",
            "_________________________________________________________________\n",
            "max_pooling2d_14 (MaxPooling (None, 31, 31, 128)       0         \n",
            "_________________________________________________________________\n",
            "dropout_26 (Dropout)         (None, 31, 31, 128)       0         \n",
            "_________________________________________________________________\n",
            "flatten_13 (Flatten)         (None, 123008)            0         \n",
            "_________________________________________________________________\n",
            "dense_35 (Dense)             (None, 128)               15745152  \n",
            "_________________________________________________________________\n",
            "dropout_27 (Dropout)         (None, 128)               0         \n",
            "_________________________________________________________________\n",
            "dense_36 (Dense)             (None, 64)                8256      \n",
            "_________________________________________________________________\n",
            "dropout_28 (Dropout)         (None, 64)                0         \n",
            "_________________________________________________________________\n",
            "dense_37 (Dense)             (None, 2)                 130       \n",
            "=================================================================\n",
            "Total params: 15,805,250\n",
            "Trainable params: 15,805,250\n",
            "Non-trainable params: 0\n",
            "_________________________________________________________________\n"
          ],
          "name": "stdout"
        }
      ]
    },
    {
      "metadata": {
        "id": "D46kd5Hdnirn",
        "colab_type": "code",
        "colab": {}
      },
      "cell_type": "code",
      "source": [
        "model.compile(loss=keras.losses.sparse_categorical_crossentropy, optimizer=keras.optimizers.Adam(), metrics=['accuracy',])"
      ],
      "execution_count": 0,
      "outputs": []
    },
    {
      "metadata": {
        "id": "RVQkk7_ke4sE",
        "colab_type": "code",
        "outputId": "31583011-ead0-484d-f8f2-353ecf7c04b8",
        "colab": {
          "base_uri": "https://localhost:8080/",
          "height": 763
        }
      },
      "cell_type": "code",
      "source": [
        "model.fit(x=X_train, y=y_train, epochs=20, validation_data=(X_cv, y_cv))"
      ],
      "execution_count": 0,
      "outputs": [
        {
          "output_type": "stream",
          "text": [
            "Train on 5600 samples, validate on 1400 samples\n",
            "Epoch 1/20\n",
            "5600/5600 [==============================] - 12s 2ms/step - loss: 0.6979 - acc: 0.5202 - val_loss: 0.6732 - val_acc: 0.5979\n",
            "Epoch 2/20\n",
            "5600/5600 [==============================] - 11s 2ms/step - loss: 0.6700 - acc: 0.5904 - val_loss: 0.6403 - val_acc: 0.6336\n",
            "Epoch 3/20\n",
            "5600/5600 [==============================] - 11s 2ms/step - loss: 0.6299 - acc: 0.6484 - val_loss: 0.5845 - val_acc: 0.6871\n",
            "Epoch 4/20\n",
            "5600/5600 [==============================] - 11s 2ms/step - loss: 0.5522 - acc: 0.7246 - val_loss: 0.6282 - val_acc: 0.6493\n",
            "Epoch 5/20\n",
            "5600/5600 [==============================] - 10s 2ms/step - loss: 0.4013 - acc: 0.8363 - val_loss: 0.3578 - val_acc: 0.8571\n",
            "Epoch 6/20\n",
            "5600/5600 [==============================] - 10s 2ms/step - loss: 0.2290 - acc: 0.9257 - val_loss: 0.2638 - val_acc: 0.9293\n",
            "Epoch 7/20\n",
            "5600/5600 [==============================] - 10s 2ms/step - loss: 0.1515 - acc: 0.9573 - val_loss: 0.3082 - val_acc: 0.8964\n",
            "Epoch 8/20\n",
            "5600/5600 [==============================] - 10s 2ms/step - loss: 0.1202 - acc: 0.9627 - val_loss: 0.2908 - val_acc: 0.9214\n",
            "Epoch 9/20\n",
            "5600/5600 [==============================] - 10s 2ms/step - loss: 0.0844 - acc: 0.9770 - val_loss: 0.3504 - val_acc: 0.9114\n",
            "Epoch 10/20\n",
            "5600/5600 [==============================] - 10s 2ms/step - loss: 0.0765 - acc: 0.9795 - val_loss: 0.3773 - val_acc: 0.9043\n",
            "Epoch 11/20\n",
            "5600/5600 [==============================] - 10s 2ms/step - loss: 0.0686 - acc: 0.9832 - val_loss: 0.3644 - val_acc: 0.9171\n",
            "Epoch 12/20\n",
            "5600/5600 [==============================] - 10s 2ms/step - loss: 0.0571 - acc: 0.9859 - val_loss: 0.4020 - val_acc: 0.8743\n",
            "Epoch 13/20\n",
            "5600/5600 [==============================] - 10s 2ms/step - loss: 0.0499 - acc: 0.9891 - val_loss: 0.3966 - val_acc: 0.9214\n",
            "Epoch 14/20\n",
            "5600/5600 [==============================] - 10s 2ms/step - loss: 0.0451 - acc: 0.9900 - val_loss: 0.3712 - val_acc: 0.8943\n",
            "Epoch 15/20\n",
            "5600/5600 [==============================] - 10s 2ms/step - loss: 0.0428 - acc: 0.9904 - val_loss: 0.4211 - val_acc: 0.9043\n",
            "Epoch 16/20\n",
            "5600/5600 [==============================] - 10s 2ms/step - loss: 0.1039 - acc: 0.9714 - val_loss: 0.4253 - val_acc: 0.9164\n",
            "Epoch 17/20\n",
            "5600/5600 [==============================] - 10s 2ms/step - loss: 0.0376 - acc: 0.9898 - val_loss: 0.3865 - val_acc: 0.9136\n",
            "Epoch 18/20\n",
            "5600/5600 [==============================] - 10s 2ms/step - loss: 0.0263 - acc: 0.9948 - val_loss: 0.4265 - val_acc: 0.9229\n",
            "Epoch 19/20\n",
            "5600/5600 [==============================] - 10s 2ms/step - loss: 0.0259 - acc: 0.9961 - val_loss: 0.4735 - val_acc: 0.9157\n",
            "Epoch 20/20\n",
            "5600/5600 [==============================] - 10s 2ms/step - loss: 0.0434 - acc: 0.9921 - val_loss: 0.4091 - val_acc: 0.9257\n"
          ],
          "name": "stdout"
        },
        {
          "output_type": "execute_result",
          "data": {
            "text/plain": [
              "<keras.callbacks.History at 0x7fb2ecf105c0>"
            ]
          },
          "metadata": {
            "tags": []
          },
          "execution_count": 113
        }
      ]
    },
    {
      "metadata": {
        "id": "oNXSycZ3j7BS",
        "colab_type": "code",
        "colab": {}
      },
      "cell_type": "code",
      "source": [
        "from keras.utils import plot_model\n",
        "import matplotlib.pyplot as plt"
      ],
      "execution_count": 0,
      "outputs": []
    },
    {
      "metadata": {
        "id": "9gh639n3j75q",
        "colab_type": "code",
        "outputId": "62dde87e-7354-411f-e63a-bec82733e5da",
        "colab": {
          "base_uri": "https://localhost:8080/",
          "height": 294
        }
      },
      "cell_type": "code",
      "source": [
        "plt.plot(model.history.history['loss'])\n",
        "plt.plot(model.history.history['val_loss'])\n",
        "plt.title('Model Loss')\n",
        "plt.ylabel('Loss')\n",
        "plt.xlabel('Epoch')\n",
        "plt.legend(['Train', 'Crossvalidation'], loc='upper right')\n",
        "plt.show()"
      ],
      "execution_count": 0,
      "outputs": [
        {
          "output_type": "display_data",
          "data": {
            "image/png": "[encoded data removed]",
            "text/plain": [
              "<Figure size 432x288 with 1 Axes>"
            ]
          },
          "metadata": {
            "tags": []
          }
        }
      ]
    },
    {
      "metadata": {
        "id": "vn3Dk0w2lqom",
        "colab_type": "text"
      },
      "cell_type": "markdown",
      "source": [
        "**Predicting**"
      ]
    },
    {
      "metadata": {
        "id": "lHcK21b3B6ND",
        "colab_type": "code",
        "outputId": "98f2f67c-3d06-4ad2-fa32-1b9eed4a3f3b",
        "colab": {
          "base_uri": "https://localhost:8080/",
          "height": 34
        }
      },
      "cell_type": "code",
      "source": [
        "X_train[0].shape"
      ],
      "execution_count": 0,
      "outputs": [
        {
          "output_type": "execute_result",
          "data": {
            "text/plain": [
              "(128, 128, 1)"
            ]
          },
          "metadata": {
            "tags": []
          },
          "execution_count": 127
        }
      ]
    },
    {
      "metadata": {
        "id": "NCoTVYjtBwG3",
        "colab_type": "code",
        "colab": {}
      },
      "cell_type": "code",
      "source": [
        "def resize(image):\n",
        "  image = image.reshape(128,128,1)\n",
        "  return image\n",
        "\n",
        "def predict(image):\n",
        "  return (model.predict_classes(image))"
      ],
      "execution_count": 0,
      "outputs": []
    },
    {
      "metadata": {
        "id": "e2a4chI6ltHW",
        "colab_type": "code",
        "outputId": "3d3e9315-be7e-4798-a927-a3ff24f2027f",
        "colab": {
          "base_uri": "https://localhost:8080/",
          "height": 52
        }
      },
      "cell_type": "code",
      "source": [
        "score = model.evaluate(X_test, y_test,verbose=0)\n",
        "print('Test Loss:', score[0])\n",
        "print('Test accuracy:', score[1])"
      ],
      "execution_count": 0,
      "outputs": [
        {
          "output_type": "stream",
          "text": [
            "Test Loss: 0.5035891513622677\n",
            "Test accuracy: 0.9130000001589457\n"
          ],
          "name": "stdout"
        }
      ]
    },
    {
      "metadata": {
        "id": "gFEcxR87lwVV",
        "colab_type": "code",
        "outputId": "3a424c1e-41aa-4aa3-b07a-88bf7e296b07",
        "colab": {
          "base_uri": "https://localhost:8080/",
          "height": 87
        }
      },
      "cell_type": "code",
      "source": [
        "test_image = X_test[150:151]\n",
        "print (test_image.shape)\n",
        "\n",
        "print(model.predict(test_image))\n",
        "print(model.predict_classes(test_image))\n",
        "print(y_test[150:151])"
      ],
      "execution_count": 0,
      "outputs": [
        {
          "output_type": "stream",
          "text": [
            "(1, 128, 128, 1)\n",
            "[[1.4439354e-19 1.0000000e+00]]\n",
            "[1]\n",
            "[1]\n"
          ],
          "name": "stdout"
        }
      ]
    },
    {
      "metadata": {
        "id": "pmxKmWW0qOHI",
        "colab_type": "text"
      },
      "cell_type": "markdown",
      "source": [
        "**Testing our model**"
      ]
    },
    {
      "metadata": {
        "id": "RskLWNAQp_zG",
        "colab_type": "code",
        "outputId": "7f4d711d-adbc-4b3d-941e-f7cf090cbb52",
        "colab": {
          "base_uri": "https://localhost:8080/",
          "height": 52
        }
      },
      "cell_type": "code",
      "source": [
        "print(model.predict_classes(X_test[10:15]))\n",
        "print(y_test[10:15])"
      ],
      "execution_count": 0,
      "outputs": [
        {
          "output_type": "stream",
          "text": [
            "[0 0 0 0 1]\n",
            "[0 0 0 0 1]\n"
          ],
          "name": "stdout"
        }
      ]
    },
    {
      "metadata": {
        "id": "x-rRYuSr4Xvo",
        "colab_type": "text"
      },
      "cell_type": "markdown",
      "source": [
        "**save the model**"
      ]
    },
    {
      "metadata": {
        "id": "84jUYaLJ4ZfF",
        "colab_type": "code",
        "colab": {}
      },
      "cell_type": "code",
      "source": [
        "model_json = model.to_json()\n",
        "with open(\"model.json\", \"w\") as json_file:\n",
        "    json_file.write(model_json)\n",
        "# serialize weights to HDF5\n",
        "model.save_weights(\"model.h5\")"
      ],
      "execution_count": 0,
      "outputs": []
    }
  ]
}